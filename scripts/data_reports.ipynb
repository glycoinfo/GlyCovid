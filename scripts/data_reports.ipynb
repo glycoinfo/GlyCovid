{
 "cells": [
  {
   "cell_type": "code",
   "execution_count": 17,
   "id": "4108d69c",
   "metadata": {},
   "outputs": [
    {
     "data": {
      "text/html": [
       "<div class=\"krn-spql\"><div class=\"magic\">Endpoint set to: https://ts.beta.glycosmos.org/sparql</div><div class=\"magic\">Display: table</div></div>"
      ],
      "text/plain": [
       "Endpoint set to: https://ts.beta.glycosmos.org/sparql\n",
       "Display: table\n"
      ]
     },
     "metadata": {},
     "output_type": "display_data"
    }
   ],
   "source": [
    "# %endpoint http://localhost:3030/GlyCovid/query\n",
    "# %endpoint https://ts.glycosmos.org/sparql\n",
    "%endpoint https://ts.beta.glycosmos.org/sparql\n",
    "%display table"
   ]
  },
  {
   "cell_type": "markdown",
   "id": "552656f3",
   "metadata": {},
   "source": [
    "# GlyCovid data reports for paper in scientific data\n",
    "## Endpoint\n",
    "- https://ts.glycosmos.org/sparql\n",
    "## Resources\n",
    "- PubChem\n",
    "    - GRAPH: <http://rdf.glycosmos.org/glycovid_pubchem>\n",
    "- GlycanBind (SugarBind)\n",
    "    - GRAPH: <http://rdf.glycosmos.org/sugarbind>\n",
    "- PSICQUIC\n",
    "    - GRAPH: <http://rdf.glycosmos.org/psicquic>\n",
    "    \n",
    "[jypyter sparql kernel](https://github.com/paulovn/sparql-kernel)"
   ]
  },
  {
   "cell_type": "markdown",
   "id": "a1807b0c",
   "metadata": {},
   "source": [
    "# PSICQUIC\n",
    "\n",
    "\n",
    "\n",
    "\n",
    "\n",
    "\n",
    "\n",
    "\n",
    "\n",
    "\n"
   ]
  },
  {
   "cell_type": "markdown",
   "id": "591b24db",
   "metadata": {},
   "source": [
    "## Count triples"
   ]
  },
  {
   "cell_type": "code",
   "execution_count": 9,
   "id": "04ef60cd",
   "metadata": {},
   "outputs": [
    {
     "data": {
      "text/html": [
       "<div class=\"krn-spql\"><table><tr class=hdr><th>s_count</th></tr><tr class=odd><td class=val>24008359</td></tr></table><div class=\"tinfo\">Total: 1, Shown: 1</div></div>"
      ]
     },
     "metadata": {},
     "output_type": "display_data"
    }
   ],
   "source": [
    "PREFIX http: <http://www.w3.org/2011/http#>\n",
    "prefix owl: <http://www.w3.org/2002/07/owl#>\n",
    "prefix rdfs: <http://www.w3.org/2000/01/rdf-schema#>\n",
    "\n",
    "SELECT (COUNT(?s) AS ?s_count)\n",
    "FROM <http://rdf.glycosmos.org/psicquic>\n",
    "WHERE {\n",
    "    ?s ?p ?o .\n",
    "}"
   ]
  },
  {
   "cell_type": "markdown",
   "id": "5fd9c1a0",
   "metadata": {},
   "source": [
    "## Count entities of all classes"
   ]
  },
  {
   "cell_type": "code",
   "execution_count": 80,
   "id": "790c6cd3",
   "metadata": {},
   "outputs": [
    {
     "data": {
      "text/html": [
       "<div class=\"krn-spql\"><table><tr class=hdr><th>class</th>\n",
       "<th>label</th>\n",
       "<th>s_count</th></tr><tr class=odd><td class=val><a href=\"http://biomodels.net/SBO/SBO_0000344\" target=\"_other\">http://biomodels.net/SBO/SBO_0000344</a></td>\n",
       "<td class=val></td>\n",
       "<td class=val>1919219</td></tr><tr class=even><td class=val><a href=\"http://rdf.glycoinfo.org/PSICQUIC/Ontology#InteractionId\" target=\"_other\">http://rdf.glycoinfo.org/PSICQUIC/Ontology#InteractionId</a></td>\n",
       "<td class=val></td>\n",
       "<td class=val>1426421</td></tr><tr class=odd><td class=val><a href=\"http://semanticscience.org/resource/SIO_000559\" target=\"_other\">http://semanticscience.org/resource/SIO_000559</a></td>\n",
       "<td class=val></td>\n",
       "<td class=val>556670</td></tr><tr class=even><td class=val><a href=\"http://biomodels.net/SBO/SBO_0000241\" target=\"_other\">http://biomodels.net/SBO/SBO_0000241</a></td>\n",
       "<td class=val></td>\n",
       "<td class=val>280407</td></tr><tr class=odd><td class=val><a href=\"http://purl.obolibrary.org/obo/NCIT_C93638\" target=\"_other\">http://purl.obolibrary.org/obo/NCIT_C93638</a></td>\n",
       "<td class=val></td>\n",
       "<td class=val>98912</td></tr><tr class=even><td class=val><a href=\"http://www.bioassayontosiyousuru.org/bao#BAO_0020008\" target=\"_other\">http://www.bioassayontosiyousuru.org/bao#BAO_0020008</a></td>\n",
       "<td class=val></td>\n",
       "<td class=val>6960</td></tr><tr class=odd><td class=val><a href=\"http://www.w3.org/2002/07/owl#Class\" target=\"_other\">http://www.w3.org/2002/07/owl#Class</a></td>\n",
       "<td class=val></td>\n",
       "<td class=val>1617</td></tr><tr class=even><td class=val><a href=\"http://purl.obolibrary.org/obo/EUPATH_0000591\" target=\"_other\">http://purl.obolibrary.org/obo/EUPATH_0000591</a></td>\n",
       "<td class=val></td>\n",
       "<td class=val>782</td></tr><tr class=odd><td class=val><a href=\"http://purl.bioontology.org/ontology/SNOMEDCT/69910005\" target=\"_other\">http://purl.bioontology.org/ontology/SNOMEDCT/69910005</a></td>\n",
       "<td class=val></td>\n",
       "<td class=val>5</td></tr></table><div class=\"tinfo\">Total: 9, Shown: 9</div></div>"
      ]
     },
     "metadata": {},
     "output_type": "display_data"
    }
   ],
   "source": [
    "prefix owl: <http://www.w3.org/2002/07/owl#>\n",
    "prefix rdfs: <http://www.w3.org/2000/01/rdf-schema#>\n",
    "\n",
    "SELECT ?class ?label (COUNT(?s) AS ?s_count)\n",
    "FROM <http://rdf.glycosmos.org/psicquic>\n",
    "WHERE {\n",
    "    ?s a ?class .\n",
    "}\n",
    "group by ?class ?label ?description\n",
    "ORDER BY DESC(?s_count)\n",
    "limit 100"
   ]
  },
  {
   "cell_type": "markdown",
   "id": "a8479d4a",
   "metadata": {},
   "source": [
    "## Count interactor of all databases"
   ]
  },
  {
   "cell_type": "code",
   "execution_count": 53,
   "id": "81abdefc",
   "metadata": {},
   "outputs": [
    {
     "data": {
      "text/html": [
       "<div class=\"krn-spql\"><table><tr class=hdr><th>callret-0</th>\n",
       "<th>database</th>\n",
       "<th>count</th></tr><tr class=odd><td class=val><a href=\"http://rdf.glycoinfo.org/dbid/chembl\" target=\"_other\">http://rdf.glycoinfo.org/dbid/chembl</a></td>\n",
       "<td class=val>chembl</td>\n",
       "<td class=val>101844</td></tr><tr class=even><td class=val><a href=\"http://rdf.glycoinfo.org/dbid/CHEBI\" target=\"_other\">http://rdf.glycoinfo.org/dbid/CHEBI</a></td>\n",
       "<td class=val>CHEBI</td>\n",
       "<td class=val>88498</td></tr><tr class=odd><td class=val><a href=\"http://rdf.glycoinfo.org/dbid/uniprot\" target=\"_other\">http://rdf.glycoinfo.org/dbid/uniprot</a></td>\n",
       "<td class=val>uniprot</td>\n",
       "<td class=val>53763</td></tr><tr class=even><td class=val><a href=\"http://rdf.glycoinfo.org/dbid/ncbigene\" target=\"_other\">http://rdf.glycoinfo.org/dbid/ncbigene</a></td>\n",
       "<td class=val>ncbigene</td>\n",
       "<td class=val>21601</td></tr><tr class=odd><td class=val><a href=\"http://rdf.glycoinfo.org/dbid/ensembl\" target=\"_other\">http://rdf.glycoinfo.org/dbid/ensembl</a></td>\n",
       "<td class=val>ensembl</td>\n",
       "<td class=val>5699</td></tr><tr class=even><td class=val><a href=\"http://rdf.glycoinfo.org/dbid/refseq\" target=\"_other\">http://rdf.glycoinfo.org/dbid/refseq</a></td>\n",
       "<td class=val>refseq</td>\n",
       "<td class=val>4581</td></tr><tr class=odd><td class=val><a href=\"http://rdf.glycoinfo.org/dbid/intact\" target=\"_other\">http://rdf.glycoinfo.org/dbid/intact</a></td>\n",
       "<td class=val>intact</td>\n",
       "<td class=val>3069</td></tr><tr class=even><td class=val><a href=\"http://rdf.glycoinfo.org/dbid/rogid\" target=\"_other\">http://rdf.glycoinfo.org/dbid/rogid</a></td>\n",
       "<td class=val>rogid</td>\n",
       "<td class=val>625</td></tr><tr class=odd><td class=val><a href=\"http://rdf.glycoinfo.org/dbid/rnacentral\" target=\"_other\">http://rdf.glycoinfo.org/dbid/rnacentral</a></td>\n",
       "<td class=val>rnacentral</td>\n",
       "<td class=val>320</td></tr><tr class=even><td class=val><a href=\"http://rdf.glycoinfo.org/dbid/complex\" target=\"_other\">http://rdf.glycoinfo.org/dbid/complex</a></td>\n",
       "<td class=val>complex</td>\n",
       "<td class=val>310</td></tr><tr class=odd><td class=val><a href=\"http://rdf.glycoinfo.org/dbid/insdc\" target=\"_other\">http://rdf.glycoinfo.org/dbid/insdc</a></td>\n",
       "<td class=val>insdc</td>\n",
       "<td class=val>22</td></tr><tr class=even><td class=val><a href=\"https://bioregistry.io/reference\" target=\"_other\">https://bioregistry.io/reference</a></td>\n",
       "<td class=val>reference</td>\n",
       "<td class=val>21</td></tr><tr class=odd><td class=val><a href=\"http://rdf.glycoinfo.org/dbid/reactome\" target=\"_other\">http://rdf.glycoinfo.org/dbid/reactome</a></td>\n",
       "<td class=val>reactome</td>\n",
       "<td class=val>20</td></tr><tr class=even><td class=val><a href=\"http://rdf.glycoinfo.org/dbid/pdb\" target=\"_other\">http://rdf.glycoinfo.org/dbid/pdb</a></td>\n",
       "<td class=val>pdb</td>\n",
       "<td class=val>13</td></tr><tr class=odd><td class=val><a href=\"http://rdf.glycoinfo.org/dbid/signor\" target=\"_other\">http://rdf.glycoinfo.org/dbid/signor</a></td>\n",
       "<td class=val>signor</td>\n",
       "<td class=val>6</td></tr><tr class=even><td class=val><a href=\"http://rdf.glycoinfo.org/dbid/chembl.target\" target=\"_other\">http://rdf.glycoinfo.org/dbid/chembl.target</a></td>\n",
       "<td class=val>chembl.target</td>\n",
       "<td class=val>5</td></tr><tr class=odd><td class=val><a href=\"http://rdf.glycoinfo.org/dbid/rhea\" target=\"_other\">http://rdf.glycoinfo.org/dbid/rhea</a></td>\n",
       "<td class=val>rhea</td>\n",
       "<td class=val>4</td></tr><tr class=even><td class=val><a href=\"http://rdf.glycoinfo.org/dbid/intenz\" target=\"_other\">http://rdf.glycoinfo.org/dbid/intenz</a></td>\n",
       "<td class=val>intenz</td>\n",
       "<td class=val>4</td></tr><tr class=odd><td class=val><a href=\"http://rdf.glycoinfo.org/dbid/ensemblgenomes\" target=\"_other\">http://rdf.glycoinfo.org/dbid/ensemblgenomes</a></td>\n",
       "<td class=val>ensemblgenomes</td>\n",
       "<td class=val>1</td></tr><tr class=even><td class=val><a href=\"http://rdf.glycoinfo.org/dbid/complexportal\" target=\"_other\">http://rdf.glycoinfo.org/dbid/complexportal</a></td>\n",
       "<td class=val>complexportal</td>\n",
       "<td class=val>1</td></tr></table><div class=\"tinfo\">Total: 20, Shown: 20</div></div>"
      ]
     },
     "metadata": {},
     "output_type": "display_data"
    }
   ],
   "source": [
    "PREFIX rdf: <http://www.w3.org/1999/02/22-rdf-syntax-ns#>\n",
    "PREFIX rdfs: <http://www.w3.org/2000/01/rdf-schema#>\n",
    "PREFIX foaf: <http://xmlns.com/foaf/0.1/>\n",
    "PREFIX sbo: <http://biomodels.net/SBO/>\n",
    "\n",
    "SELECT uri(?head_s) ?database (count(?head_s) as ?count)\n",
    "FROM <http://rdf.glycosmos.org/psicquic>\n",
    "WHERE {\n",
    "    ?s a sbo:SBO_0000241 .\n",
    "    BIND(REPLACE(str(?s), \"/[^/]+$\", \"\", \"i\") AS ?head_s)\n",
    "    BIND(REPLACE(?head_s, \"^.+/\", \"\", \"i\") AS ?database)\n",
    "}\n",
    "group by ?head_s ?database\n",
    "ORDER BY DESC(?count)\n",
    "limit 100"
   ]
  },
  {
   "cell_type": "markdown",
   "id": "c60dc092",
   "metadata": {},
   "source": [
    "## Count property"
   ]
  },
  {
   "cell_type": "code",
   "execution_count": 16,
   "id": "648fcb76",
   "metadata": {},
   "outputs": [
    {
     "data": {
      "text/html": [
       "<div class=\"krn-spql\"><table><tr class=hdr><th>p_count</th></tr><tr class=odd><td class=val>13</td></tr></table><div class=\"tinfo\">Total: 1, Shown: 1</div></div>"
      ]
     },
     "metadata": {},
     "output_type": "display_data"
    }
   ],
   "source": [
    "prefix owl: <http://www.w3.org/2002/07/owl#>\n",
    "SELECT (COUNT(distinct ?p) AS ?p_count)\n",
    "FROM <http://rdf.glycosmos.org/psicquic>\n",
    "WHERE {\n",
    "    ?s ?p ?o .\n",
    "}"
   ]
  },
  {
   "cell_type": "markdown",
   "id": "2a60b38d",
   "metadata": {},
   "source": [
    "# GlycanBind (SugarBind)\n",
    "\n",
    "\n",
    "\n",
    "\n",
    "\n",
    "\n"
   ]
  },
  {
   "cell_type": "markdown",
   "id": "6c15cd32",
   "metadata": {},
   "source": [
    "## Count triples"
   ]
  },
  {
   "cell_type": "code",
   "execution_count": 22,
   "id": "3132eb46",
   "metadata": {},
   "outputs": [
    {
     "data": {
      "text/html": [
       "<div class=\"krn-spql\"><table><tr class=hdr><th>s_count</th></tr><tr class=odd><td class=val>19649</td></tr></table><div class=\"tinfo\">Total: 1, Shown: 1</div></div>"
      ]
     },
     "metadata": {},
     "output_type": "display_data"
    }
   ],
   "source": [
    "PREFIX http: <http://www.w3.org/2011/http#>\n",
    "prefix owl: <http://www.w3.org/2002/07/owl#>\n",
    "prefix rdfs: <http://www.w3.org/2000/01/rdf-schema#>\n",
    "\n",
    "SELECT (COUNT(?s) AS ?s_count)\n",
    "FROM <http://rdf.glycosmos.org/sugarbind>\n",
    "WHERE {\n",
    "    ?s ?p ?o .\n",
    "}"
   ]
  },
  {
   "cell_type": "markdown",
   "id": "2dabcb75",
   "metadata": {},
   "source": [
    "## Count entities of all classes"
   ]
  },
  {
   "cell_type": "code",
   "execution_count": 23,
   "id": "6cf535d6",
   "metadata": {},
   "outputs": [
    {
     "data": {
      "text/html": [
       "<div class=\"krn-spql\"><table><tr class=hdr><th>class</th>\n",
       "<th>label</th>\n",
       "<th>s_count</th></tr><tr class=odd><td class=val><a href=\"http://www.w3.org/2002/07/owl#NamedIndividual\" target=\"_other\">http://www.w3.org/2002/07/owl#NamedIndividual</a></td>\n",
       "<td class=val></td>\n",
       "<td class=val>2526</td></tr><tr class=even><td class=val><a href=\"http://rdf.glycoinfo.org/SugarBind/ontology#Lectin\" target=\"_other\">http://rdf.glycoinfo.org/SugarBind/ontology#Lectin</a></td>\n",
       "<td class=val></td>\n",
       "<td class=val>739</td></tr><tr class=odd><td class=val><a href=\"http://purl.obolibrary.org/obo/NCIT_C16785\" target=\"_other\">http://purl.obolibrary.org/obo/NCIT_C16785</a></td>\n",
       "<td class=val></td>\n",
       "<td class=val>739</td></tr><tr class=even><td class=val><a href=\"http://rdf.glycoinfo.org/SugarBind/ontology#ReferencedInteraction\" target=\"_other\">http://rdf.glycoinfo.org/SugarBind/ontology#ReferencedInteraction</a></td>\n",
       "<td class=val></td>\n",
       "<td class=val>739</td></tr><tr class=odd><td class=val><a href=\"http://rdf.glycoinfo.org/SugarBind/ontology#Agent\" target=\"_other\">http://rdf.glycoinfo.org/SugarBind/ontology#Agent</a></td>\n",
       "<td class=val></td>\n",
       "<td class=val>407</td></tr><tr class=even><td class=val><a href=\"http://purl.obolibrary.org/obo/NCIT_C95009\" target=\"_other\">http://purl.obolibrary.org/obo/NCIT_C95009</a></td>\n",
       "<td class=val></td>\n",
       "<td class=val>204</td></tr><tr class=odd><td class=val><a href=\"http://rdf.glycoinfo.org/SugarBind/ontology#Ligand\" target=\"_other\">http://rdf.glycoinfo.org/SugarBind/ontology#Ligand</a></td>\n",
       "<td class=val></td>\n",
       "<td class=val>204</td></tr><tr class=even><td class=val><a href=\"http://purl.obolibrary.org/obo/NCIT_C42881\" target=\"_other\">http://purl.obolibrary.org/obo/NCIT_C42881</a></td>\n",
       "<td class=val></td>\n",
       "<td class=val>179</td></tr><tr class=odd><td class=val><a href=\"http://rdf.glycoinfo.org/SugarBind/ontology#Pubmed\" target=\"_other\">http://rdf.glycoinfo.org/SugarBind/ontology#Pubmed</a></td>\n",
       "<td class=val></td>\n",
       "<td class=val>179</td></tr><tr class=even><td class=val><a href=\"http://purl.jp/bio/12/glyco/glycan#Saccharide\" target=\"_other\">http://purl.jp/bio/12/glyco/glycan#Saccharide</a></td>\n",
       "<td class=val></td>\n",
       "<td class=val>173</td></tr><tr class=odd><td class=val><a href=\"http://purl.obolibrary.org/obo/NCIT_C2991\" target=\"_other\">http://purl.obolibrary.org/obo/NCIT_C2991</a></td>\n",
       "<td class=val></td>\n",
       "<td class=val>46</td></tr><tr class=even><td class=val><a href=\"http://purl.obolibrary.org/obo/DOID_4\" target=\"_other\">http://purl.obolibrary.org/obo/DOID_4</a></td>\n",
       "<td class=val></td>\n",
       "<td class=val>46</td></tr><tr class=odd><td class=val><a href=\"http://rdf.glycoinfo.org/SugarBind/ontology#Area\" target=\"_other\">http://rdf.glycoinfo.org/SugarBind/ontology#Area</a></td>\n",
       "<td class=val></td>\n",
       "<td class=val>39</td></tr><tr class=even><td class=val><a href=\"http://purl.obolibrary.org/obo/NCIT_C12801\" target=\"_other\">http://purl.obolibrary.org/obo/NCIT_C12801</a></td>\n",
       "<td class=val></td>\n",
       "<td class=val>39</td></tr><tr class=odd><td class=val><a href=\"http://rdf.glycoinfo.org/SugarBind/ontology#Organ\" target=\"_other\">http://rdf.glycoinfo.org/SugarBind/ontology#Organ</a></td>\n",
       "<td class=val></td>\n",
       "<td class=val>16</td></tr><tr class=even><td class=val><a href=\"http://rdf.glycoinfo.org/SugarBind/ontology#System\" target=\"_other\">http://rdf.glycoinfo.org/SugarBind/ontology#System</a></td>\n",
       "<td class=val></td>\n",
       "<td class=val>11</td></tr><tr class=odd><td class=val><a href=\"http://rdf.glycoinfo.org/SugarBind/ontology#Tissue\" target=\"_other\">http://rdf.glycoinfo.org/SugarBind/ontology#Tissue</a></td>\n",
       "<td class=val></td>\n",
       "<td class=val>9</td></tr><tr class=even><td class=val><a href=\"http://rdf.glycoinfo.org/SugarBind/ontology#Cell\" target=\"_other\">http://rdf.glycoinfo.org/SugarBind/ontology#Cell</a></td>\n",
       "<td class=val></td>\n",
       "<td class=val>3</td></tr></table><div class=\"tinfo\">Total: 18, Shown: 18</div></div>"
      ]
     },
     "metadata": {},
     "output_type": "display_data"
    }
   ],
   "source": [
    "prefix owl: <http://www.w3.org/2002/07/owl#>\n",
    "prefix rdfs: <http://www.w3.org/2000/01/rdf-schema#>\n",
    "PREFIX : <http://rdf.glycoinfo.org/SugarBind/ontology#>\n",
    "\n",
    "SELECT ?class ?label (COUNT(?s) AS ?s_count)\n",
    "FROM <http://rdf.glycosmos.org/sugarbind>\n",
    "WHERE {\n",
    "    ?s a ?class .\n",
    "}\n",
    "group by ?class ?label ?description\n",
    "ORDER BY DESC(?s_count)\n",
    "limit 100"
   ]
  },
  {
   "cell_type": "markdown",
   "id": "0eeb2d0f",
   "metadata": {},
   "source": [
    "## Count property"
   ]
  },
  {
   "cell_type": "code",
   "execution_count": 24,
   "id": "4a12cb17",
   "metadata": {},
   "outputs": [
    {
     "data": {
      "text/html": [
       "<div class=\"krn-spql\"><table><tr class=hdr><th>p_count</th></tr><tr class=odd><td class=val>26</td></tr></table><div class=\"tinfo\">Total: 1, Shown: 1</div></div>"
      ]
     },
     "metadata": {},
     "output_type": "display_data"
    }
   ],
   "source": [
    "prefix owl: <http://www.w3.org/2002/07/owl#>\n",
    "SELECT (COUNT(distinct ?p) AS ?p_count)\n",
    "FROM <http://rdf.glycosmos.org/sugarbind>\n",
    "WHERE {\n",
    "    ?s ?p ?o .\n",
    "}"
   ]
  },
  {
   "cell_type": "markdown",
   "id": "a255ad02",
   "metadata": {},
   "source": [
    "# PubChem\n",
    "\n",
    "\n",
    "\n",
    "\n",
    "\n",
    "\n",
    "\n",
    "\n",
    "\n"
   ]
  },
  {
   "cell_type": "markdown",
   "id": "3bc2afa5",
   "metadata": {},
   "source": [
    "## Count triples"
   ]
  },
  {
   "cell_type": "code",
   "execution_count": 63,
   "id": "3abc3c2d",
   "metadata": {},
   "outputs": [
    {
     "data": {
      "text/html": [
       "<div class=\"krn-spql\"><table><tr class=hdr><th>s_count</th></tr><tr class=odd><td class=val>2769526</td></tr></table><div class=\"tinfo\">Total: 1, Shown: 1</div></div>"
      ]
     },
     "metadata": {},
     "output_type": "display_data"
    }
   ],
   "source": [
    "PREFIX http: <http://www.w3.org/2011/http#>\n",
    "prefix owl: <http://www.w3.org/2002/07/owl#>\n",
    "prefix rdfs: <http://www.w3.org/2000/01/rdf-schema#>\n",
    "\n",
    "SELECT (COUNT(?s) AS ?s_count)\n",
    "FROM <http://rdf.glycosmos.org/glycovid_pubchem>\n",
    "WHERE {\n",
    "    ?s ?p ?o .\n",
    "}"
   ]
  },
  {
   "cell_type": "markdown",
   "id": "bf42f9eb",
   "metadata": {},
   "source": [
    "## Count entities of all classes"
   ]
  },
  {
   "cell_type": "code",
   "execution_count": 75,
   "id": "172753c8",
   "metadata": {},
   "outputs": [
    {
     "data": {
      "text/html": [
       "<div class=\"krn-spql\"><table><tr class=hdr><th>class</th>\n",
       "<th>label</th>\n",
       "<th>s_count</th></tr><tr class=odd><td class=val><a href=\"http://purl.obolibrary.org/obo/CHEBI_24431\" target=\"_other\">http://purl.obolibrary.org/obo/CHEBI_24431</a></td>\n",
       "<td class=val></td>\n",
       "<td class=val>395993</td></tr><tr class=even><td class=val><a href=\"http://togodb.org/ctdchemicalgene_s\" target=\"_other\">http://togodb.org/ctdchemicalgene_s</a></td>\n",
       "<td class=val></td>\n",
       "<td class=val>146997</td></tr><tr class=odd><td class=val><a href=\"http://togodb.org/pathwayreaction_s\" target=\"_other\">http://togodb.org/pathwayreaction_s</a></td>\n",
       "<td class=val></td>\n",
       "<td class=val>37120</td></tr><tr class=even><td class=val><a href=\"http://togodb.org/dgidb_s__drugchemblid\" target=\"_other\">http://togodb.org/dgidb_s__drugchemblid</a></td>\n",
       "<td class=val></td>\n",
       "<td class=val>7932</td></tr><tr class=odd><td class=val><a href=\"http://purl.org/spar/fabio/journalArticle\" target=\"_other\">http://purl.org/spar/fabio/journalArticle</a></td>\n",
       "<td class=val></td>\n",
       "<td class=val>6738</td></tr><tr class=even><td class=val><a href=\"http://togodb.org/chembldrug_s__drugchemblid\" target=\"_other\">http://togodb.org/chembldrug_s__drugchemblid</a></td>\n",
       "<td class=val></td>\n",
       "<td class=val>3196</td></tr><tr class=odd><td class=val><a href=\"http://id.nlm.nih.gov/mesh/vocab#Concept\" target=\"_other\">http://id.nlm.nih.gov/mesh/vocab#Concept</a></td>\n",
       "<td class=val></td>\n",
       "<td class=val>879</td></tr><tr class=even><td class=val><a href=\"http://www.biopax.org/release/biopax-level3.owl#Protein\" target=\"_other\">http://www.biopax.org/release/biopax-level3.owl#Protein</a></td>\n",
       "<td class=val></td>\n",
       "<td class=val>603</td></tr><tr class=odd><td class=val><a href=\"http://www.biopax.org/release/biopax-level3.owl#Gene\" target=\"_other\">http://www.biopax.org/release/biopax-level3.owl#Gene</a></td>\n",
       "<td class=val></td>\n",
       "<td class=val>595</td></tr><tr class=even><td class=val><a href=\"http://semanticscience.org/resource/CHEMINF_000412\" target=\"_other\">http://semanticscience.org/resource/CHEMINF_000412</a></td>\n",
       "<td class=val></td>\n",
       "<td class=val>388</td></tr><tr class=odd><td class=val><a href=\"http://www.w3.org/1999/02/22-rdf-syntax-ns#Property\" target=\"_other\">http://www.w3.org/1999/02/22-rdf-syntax-ns#Property</a></td>\n",
       "<td class=val></td>\n",
       "<td class=val>43</td></tr><tr class=even><td class=val><a href=\"http://www.w3.org/2000/01/rdf-schema#Class\" target=\"_other\">http://www.w3.org/2000/01/rdf-schema#Class</a></td>\n",
       "<td class=val></td>\n",
       "<td class=val>10</td></tr></table><div class=\"tinfo\">Total: 12, Shown: 12</div></div>"
      ]
     },
     "metadata": {},
     "output_type": "display_data"
    }
   ],
   "source": [
    "prefix owl: <http://www.w3.org/2002/07/owl#>\n",
    "prefix rdfs: <http://www.w3.org/2000/01/rdf-schema#>\n",
    "\n",
    "SELECT ?class ?label (COUNT(?s) AS ?s_count)\n",
    "FROM <http://rdf.glycosmos.org/glycovid_pubchem>\n",
    "WHERE {\n",
    "    ?s a ?class .\n",
    "}\n",
    "group by ?class ?label ?description\n",
    "ORDER BY DESC(?s_count)\n",
    "limit 100"
   ]
  },
  {
   "cell_type": "markdown",
   "id": "460a6abf",
   "metadata": {},
   "source": [
    "## Count property"
   ]
  },
  {
   "cell_type": "code",
   "execution_count": 12,
   "id": "c5354965",
   "metadata": {},
   "outputs": [
    {
     "data": {
      "text/html": [
       "<div class=\"krn-spql\"><table><tr class=hdr><th>p_count</th></tr><tr class=odd><td class=val>44</td></tr></table><div class=\"tinfo\">Total: 1, Shown: 1</div></div>"
      ]
     },
     "metadata": {},
     "output_type": "display_data"
    }
   ],
   "source": [
    "prefix owl: <http://www.w3.org/2002/07/owl#>\n",
    "SELECT (COUNT(distinct ?p) AS ?p_count)\n",
    "FROM <http://rdf.glycosmos.org/glycovid_pubchem>\n",
    "WHERE {\n",
    "    ?s ?p ?o .\n",
    "}"
   ]
  }
 ],
 "metadata": {
  "kernelspec": {
   "display_name": "SPARQL",
   "language": "sparql",
   "name": "sparql"
  },
  "language_info": {
   "codemirror_mode": {
    "name": "sparql"
   },
   "mimetype": "application/sparql-query",
   "name": "sparql",
   "pygments_lexer": "sparql-nb"
  }
 },
 "nbformat": 4,
 "nbformat_minor": 5
}
