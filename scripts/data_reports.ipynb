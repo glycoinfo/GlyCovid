{
 "cells": [
  {
   "cell_type": "code",
   "execution_count": 34,
   "id": "8c629937",
   "metadata": {},
   "outputs": [
    {
     "data": {
      "text/html": [
       "<div class=\"krn-spql\"><div class=\"magic\">Endpoint set to: https://ts.glycosmos.org/sparql</div><div class=\"magic\">Display: table</div></div>"
      ],
      "text/plain": [
       "Endpoint set to: https://ts.glycosmos.org/sparql\n",
       "Display: table\n"
      ]
     },
     "metadata": {},
     "output_type": "display_data"
    }
   ],
   "source": [
    "# %endpoint http://localhost:3030/GlyCovid/query\n",
    "%endpoint https://ts.glycosmos.org/sparql\n",
    "%display table"
   ]
  },
  {
   "cell_type": "markdown",
   "id": "b1060fe5",
   "metadata": {},
   "source": [
    "# GlyCovid data reports for paper in scientific data\n",
    "## Endpoint\n",
    "- https://ts.glycosmos.org/sparql\n",
    "## Resources\n",
    "- PubChem\n",
    "    - GRAPH: <http://rdf.glycosmos.org/glycovid_pubchem>\n",
    "- GlycanBind (SugarBind)\n",
    "    - GRAPH: <http://rdf.glycosmos.org/sugarbind>\n",
    "- PSICQUIC\n",
    "    - GRAPH: <http://rdf.glycosmos.org/psicquic>\n",
    "    \n",
    "[jypyter sparql kernel](https://github.com/paulovn/sparql-kernel)"
   ]
  },
  {
   "cell_type": "markdown",
   "id": "d222a50b",
   "metadata": {},
   "source": [
    "# PSICQUIC"
   ]
  },
  {
   "cell_type": "markdown",
   "id": "7a380ae1",
   "metadata": {},
   "source": [
    "## Count triples"
   ]
  },
  {
   "cell_type": "code",
   "execution_count": 9,
   "id": "600441a8",
   "metadata": {},
   "outputs": [
    {
     "data": {
      "text/html": [
       "<div class=\"krn-spql\"><table><tr class=hdr><th>s_count</th></tr><tr class=odd><td class=val>24008359</td></tr></table><div class=\"tinfo\">Total: 1, Shown: 1</div></div>"
      ]
     },
     "metadata": {},
     "output_type": "display_data"
    }
   ],
   "source": [
    "PREFIX http: <http://www.w3.org/2011/http#>\n",
    "prefix owl: <http://www.w3.org/2002/07/owl#>\n",
    "prefix rdfs: <http://www.w3.org/2000/01/rdf-schema#>\n",
    "\n",
    "SELECT (COUNT(?s) AS ?s_count)\n",
    "FROM <http://localhost:3030/GlyCovid/psicquic1>\n",
    "WHERE {\n",
    "    ?s ?p ?o .\n",
    "}"
   ]
  },
  {
   "cell_type": "markdown",
   "id": "cfdb569c",
   "metadata": {},
   "source": [
    "## Count entities of all classes"
   ]
  },
  {
   "cell_type": "code",
   "execution_count": 26,
   "id": "2fa4993c",
   "metadata": {},
   "outputs": [
    {
     "data": {
      "text/html": [
       "<div class=\"krn-spql\"><table><tr class=hdr><th>class</th>\n",
       "<th>s_count</th>\n",
       "<th>labels</th>\n",
       "<th>descriptions</th></tr><tr class=odd><td class=val><a href=\"http://biomodels.net/SBO/SBO_0000344\" target=\"_other\">http://biomodels.net/SBO/SBO_0000344</a></td>\n",
       "<td class=val>1919219</td>\n",
       "<td class=val></td>\n",
       "<td class=val></td></tr><tr class=even><td class=val><a href=\"http://rdf.glycoinfo.org/PSICQUIC/Ontology#InteractionId\" target=\"_other\">http://rdf.glycoinfo.org/PSICQUIC/Ontology#InteractionId</a></td>\n",
       "<td class=val>1426421</td>\n",
       "<td class=val></td>\n",
       "<td class=val></td></tr><tr class=odd><td class=val><a href=\"http://semanticscience.org/resource/SIO_000559\" target=\"_other\">http://semanticscience.org/resource/SIO_000559</a></td>\n",
       "<td class=val>556670</td>\n",
       "<td class=val></td>\n",
       "<td class=val></td></tr><tr class=even><td class=val><a href=\"http://biomodels.net/SBO/SBO_0000241\" target=\"_other\">http://biomodels.net/SBO/SBO_0000241</a></td>\n",
       "<td class=val>280408</td>\n",
       "<td class=val></td>\n",
       "<td class=val></td></tr><tr class=odd><td class=val><a href=\"http://purl.obolibrary.org/obo/NCIT_C93638\" target=\"_other\">http://purl.obolibrary.org/obo/NCIT_C93638</a></td>\n",
       "<td class=val>98912</td>\n",
       "<td class=val>Publication Identifier</td>\n",
       "<td class=val></td></tr><tr class=even><td class=val><a href=\"http://www.bioassayontosiyousuru.org/bao#BAO_0020008\" target=\"_other\">http://www.bioassayontosiyousuru.org/bao#BAO_0020008</a></td>\n",
       "<td class=val>6960</td>\n",
       "<td class=val></td>\n",
       "<td class=val></td></tr><tr class=odd><td class=val><a href=\"http://purl.obolibrary.org/obo/EUPATH_0000591\" target=\"_other\">http://purl.obolibrary.org/obo/EUPATH_0000591</a></td>\n",
       "<td class=val>782</td>\n",
       "<td class=val>host organism</td>\n",
       "<td class=val></td></tr><tr class=even><td class=val><a href=\"http://www.w3.org/2002/07/owl#AnnotationProperty\" target=\"_other\">http://www.w3.org/2002/07/owl#AnnotationProperty</a></td>\n",
       "<td class=val>12</td>\n",
       "<td class=val></td>\n",
       "<td class=val></td></tr><tr class=odd><td class=val><a href=\"http://www.w3.org/2002/07/owl#Class\" target=\"_other\">http://www.w3.org/2002/07/owl#Class</a></td>\n",
       "<td class=val>8</td>\n",
       "<td class=val></td>\n",
       "<td class=val></td></tr><tr class=even><td class=val><a href=\"http://www.w3.org/2002/07/owl#NamedIndividual\" target=\"_other\">http://www.w3.org/2002/07/owl#NamedIndividual</a></td>\n",
       "<td class=val>8</td>\n",
       "<td class=val></td>\n",
       "<td class=val></td></tr><tr class=odd><td class=val><a href=\"http://purl.bioontology.org/ontology/SNOMEDCT/69910005\" target=\"_other\">http://purl.bioontology.org/ontology/SNOMEDCT/69910005</a></td>\n",
       "<td class=val>5</td>\n",
       "<td class=val></td>\n",
       "<td class=val></td></tr><tr class=even><td class=val><a href=\"http://www.w3.org/2002/07/owl#ObjectProperty\" target=\"_other\">http://www.w3.org/2002/07/owl#ObjectProperty</a></td>\n",
       "<td class=val>5</td>\n",
       "<td class=val></td>\n",
       "<td class=val></td></tr><tr class=odd><td class=val><a href=\"http://rdf.glycoinfo.org/ontology/interaction#InteractionId\" target=\"_other\">http://rdf.glycoinfo.org/ontology/interaction#InteractionId</a></td>\n",
       "<td class=val>1</td>\n",
       "<td class=val></td>\n",
       "<td class=val></td></tr><tr class=even><td class=val><a href=\"http://www.biopax.org/release/biopax-level3.owl#MolecularInteraction\" target=\"_other\">http://www.biopax.org/release/biopax-level3.owl#MolecularInteraction</a></td>\n",
       "<td class=val>1</td>\n",
       "<td class=val></td>\n",
       "<td class=val></td></tr><tr class=odd><td class=val><a href=\"http://www.w3.org/2002/07/owl#Ontology\" target=\"_other\">http://www.w3.org/2002/07/owl#Ontology</a></td>\n",
       "<td class=val>1</td>\n",
       "<td class=val></td>\n",
       "<td class=val></td></tr><tr class=even><td class=val><a href=\"http://www.w3.org/2002/07/owl#Restriction\" target=\"_other\">http://www.w3.org/2002/07/owl#Restriction</a></td>\n",
       "<td class=val>1</td>\n",
       "<td class=val></td>\n",
       "<td class=val></td></tr></table><div class=\"tinfo\">Total: 16, Shown: 16</div></div>"
      ]
     },
     "metadata": {},
     "output_type": "display_data"
    }
   ],
   "source": [
    "prefix owl: <http://www.w3.org/2002/07/owl#>\n",
    "prefix rdfs: <http://www.w3.org/2000/01/rdf-schema#>\n",
    "\n",
    "SELECT ?class (COUNT(?s) AS ?s_count)\n",
    "(GROUP_CONCAT(DISTINCT ?label ; separator = \",\") AS ?labels) ?class\n",
    "(GROUP_CONCAT(DISTINCT ?description ; separator = \",\") AS ?descriptions) ?class\n",
    "FROM <http://localhost:3030/GlyCovid/psicquic1>\n",
    "WHERE {\n",
    "    ?s a ?class .\n",
    "    OPTIONAL { ?class rdfs:label ?label}\n",
    "    OPTIONAL { ?class rdfs:comment ?description}\n",
    "}\n",
    "group by ?class ?label ?description\n",
    "ORDER BY DESC(?s_count)"
   ]
  },
  {
   "cell_type": "markdown",
   "id": "d46f9076",
   "metadata": {},
   "source": [
    "## Count interactor of all databases"
   ]
  },
  {
   "cell_type": "code",
   "execution_count": 27,
   "id": "be483d61",
   "metadata": {},
   "outputs": [
    {
     "data": {
      "text/html": [
       "<div class=\"krn-spql\"><table><tr class=hdr><th>head_s</th>\n",
       "<th>database</th>\n",
       "<th>count</th></tr><tr class=odd><td class=val>http://rdf.glycoinfo.org/dbid/chembl</td>\n",
       "<td class=val>chembl</td>\n",
       "<td class=val>101844</td></tr><tr class=even><td class=val>http://rdf.glycoinfo.org/dbid/CHEBI</td>\n",
       "<td class=val>CHEBI</td>\n",
       "<td class=val>88498</td></tr><tr class=odd><td class=val>http://rdf.glycoinfo.org/dbid/uniprot</td>\n",
       "<td class=val>uniprot</td>\n",
       "<td class=val>53763</td></tr><tr class=even><td class=val>http://rdf.glycoinfo.org/dbid/ncbigene</td>\n",
       "<td class=val>ncbigene</td>\n",
       "<td class=val>21601</td></tr><tr class=odd><td class=val>http://rdf.glycoinfo.org/dbid/ensembl</td>\n",
       "<td class=val>ensembl</td>\n",
       "<td class=val>5699</td></tr><tr class=even><td class=val>http://rdf.glycoinfo.org/dbid/refseq</td>\n",
       "<td class=val>refseq</td>\n",
       "<td class=val>4581</td></tr><tr class=odd><td class=val>http://rdf.glycoinfo.org/dbid/intact</td>\n",
       "<td class=val>intact</td>\n",
       "<td class=val>3069</td></tr><tr class=even><td class=val>http://rdf.glycoinfo.org/dbid/rogid</td>\n",
       "<td class=val>rogid</td>\n",
       "<td class=val>625</td></tr><tr class=odd><td class=val>http://rdf.glycoinfo.org/dbid/rnacentral</td>\n",
       "<td class=val>rnacentral</td>\n",
       "<td class=val>320</td></tr><tr class=even><td class=val>http://rdf.glycoinfo.org/dbid/complex</td>\n",
       "<td class=val>complex</td>\n",
       "<td class=val>310</td></tr><tr class=odd><td class=val>http://rdf.glycoinfo.org/dbid/insdc</td>\n",
       "<td class=val>insdc</td>\n",
       "<td class=val>22</td></tr><tr class=even><td class=val>https://bioregistry.io/reference</td>\n",
       "<td class=val>reference</td>\n",
       "<td class=val>21</td></tr><tr class=odd><td class=val>http://rdf.glycoinfo.org/dbid/reactome</td>\n",
       "<td class=val>reactome</td>\n",
       "<td class=val>20</td></tr><tr class=even><td class=val>http://rdf.glycoinfo.org/dbid/pdb</td>\n",
       "<td class=val>pdb</td>\n",
       "<td class=val>13</td></tr><tr class=odd><td class=val>http://rdf.glycoinfo.org/dbid/signor</td>\n",
       "<td class=val>signor</td>\n",
       "<td class=val>6</td></tr><tr class=even><td class=val>http://rdf.glycoinfo.org/dbid/chembl.target</td>\n",
       "<td class=val>chembl.target</td>\n",
       "<td class=val>5</td></tr><tr class=odd><td class=val>http://rdf.glycoinfo.org/dbid/intenz</td>\n",
       "<td class=val>intenz</td>\n",
       "<td class=val>4</td></tr><tr class=even><td class=val>http://rdf.glycoinfo.org/dbid/rhea</td>\n",
       "<td class=val>rhea</td>\n",
       "<td class=val>4</td></tr><tr class=odd><td class=val>http://rdf.glycoinfo.org/dbid/complexportal</td>\n",
       "<td class=val>complexportal</td>\n",
       "<td class=val>1</td></tr><tr class=even><td class=val>http://rdf.glycoinfo.org/dbid</td>\n",
       "<td class=val>dbid</td>\n",
       "<td class=val>1</td></tr></table><div class=\"tinfo\">Total: 21, Shown: 20</div></div>"
      ]
     },
     "metadata": {},
     "output_type": "display_data"
    }
   ],
   "source": [
    "PREFIX rdf: <http://www.w3.org/1999/02/22-rdf-syntax-ns#>\n",
    "PREFIX rdfs: <http://www.w3.org/2000/01/rdf-schema#>\n",
    "PREFIX foaf: <http://xmlns.com/foaf/0.1/>\n",
    "PREFIX sbo: <http://biomodels.net/SBO/>\n",
    "\n",
    "SELECT ?head_s ?database (count(?head_s) as ?count)\n",
    "FROM <http://localhost:3030/GlyCovid/psicquic1>\n",
    "WHERE {\n",
    "    ?s a sbo:SBO_0000241 .\n",
    "    BIND(REPLACE(str(?s), \"/[^/]+$\", \"\", \"i\") AS ?head_s)\n",
    "    BIND(REPLACE(?head_s, \"^.+/\", \"\", \"i\") AS ?database)\n",
    "}\n",
    "group by ?head_s ?database\n",
    "ORDER BY DESC(?count)"
   ]
  },
  {
   "cell_type": "markdown",
   "id": "6858466b",
   "metadata": {},
   "source": [
    "## Count annotation property"
   ]
  },
  {
   "cell_type": "code",
   "execution_count": 33,
   "id": "903cffd5",
   "metadata": {},
   "outputs": [
    {
     "data": {
      "text/html": [
       "<div class=\"krn-spql\"><table><tr class=hdr><th>p_count</th></tr><tr class=odd><td class=val>12</td></tr></table><div class=\"tinfo\">Total: 1, Shown: 1</div></div>"
      ]
     },
     "metadata": {},
     "output_type": "display_data"
    }
   ],
   "source": [
    "prefix owl: <http://www.w3.org/2002/07/owl#>\n",
    "SELECT (COUNT(?p) AS ?p_count)\n",
    "FROM <http://localhost:3030/GlyCovid/psicquic1>\n",
    "WHERE {\n",
    "    ?p a owl:AnnotationProperty .\n",
    "}"
   ]
  },
  {
   "cell_type": "markdown",
   "id": "0b666f50",
   "metadata": {},
   "source": [
    "## Count object property"
   ]
  },
  {
   "cell_type": "code",
   "execution_count": 32,
   "id": "5b22a262",
   "metadata": {},
   "outputs": [
    {
     "data": {
      "text/html": [
       "<div class=\"krn-spql\"><table><tr class=hdr><th>p_count</th></tr><tr class=odd><td class=val>5</td></tr></table><div class=\"tinfo\">Total: 1, Shown: 1</div></div>"
      ]
     },
     "metadata": {},
     "output_type": "display_data"
    }
   ],
   "source": [
    "prefix owl: <http://www.w3.org/2002/07/owl#>\n",
    "SELECT (COUNT(?p) AS ?p_count)\n",
    "FROM <http://localhost:3030/GlyCovid/psicquic1>\n",
    "WHERE {\n",
    "    ?p a owl:ObjectProperty\n",
    "}"
   ]
  },
  {
   "cell_type": "markdown",
   "id": "d0e5ab08",
   "metadata": {},
   "source": [
    "# SugarBind"
   ]
  },
  {
   "cell_type": "markdown",
   "id": "ecfd66b4",
   "metadata": {},
   "source": [
    "## Count triples"
   ]
  },
  {
   "cell_type": "code",
   "execution_count": 35,
   "id": "5c74002b",
   "metadata": {},
   "outputs": [
    {
     "data": {
      "text/html": [
       "<div class=\"krn-spql\"><table><tr class=hdr><th>s_count</th></tr><tr class=odd><td class=val>16675</td></tr></table><div class=\"tinfo\">Total: 1, Shown: 1</div></div>"
      ]
     },
     "metadata": {},
     "output_type": "display_data"
    }
   ],
   "source": [
    "PREFIX http: <http://www.w3.org/2011/http#>\n",
    "prefix owl: <http://www.w3.org/2002/07/owl#>\n",
    "prefix rdfs: <http://www.w3.org/2000/01/rdf-schema#>\n",
    "\n",
    "SELECT (COUNT(?s) AS ?s_count)\n",
    "FROM <http://rdf.glycosmos.org/sugarbind>\n",
    "WHERE {\n",
    "    ?s ?p ?o .\n",
    "}"
   ]
  },
  {
   "cell_type": "markdown",
   "id": "8a87b4ca",
   "metadata": {},
   "source": [
    "## Count entities of all classes"
   ]
  },
  {
   "cell_type": "code",
   "execution_count": 36,
   "id": "5bad3177",
   "metadata": {},
   "outputs": [
    {
     "data": {
      "text/html": [
       "<div class=\"krn-spql\"><div class=\"krn-error\"><span class=\"title\">Error:</span> Response processing error: no element found: line 1, column 0</div></div>"
      ],
      "text/plain": [
       "Error: Response processing error: no element found: line 1, column 0"
      ]
     },
     "metadata": {},
     "output_type": "display_data"
    }
   ],
   "source": [
    "prefix owl: <http://www.w3.org/2002/07/owl#>\n",
    "prefix rdfs: <http://www.w3.org/2000/01/rdf-schema#>\n",
    "\n",
    "SELECT ?class (COUNT(?s) AS ?s_count)\n",
    "(GROUP_CONCAT(DISTINCT ?label ; separator = \",\") AS ?labels) ?class\n",
    "(GROUP_CONCAT(DISTINCT ?description ; separator = \",\") AS ?descriptions) ?class\n",
    "FROM <http://rdf.glycosmos.org/sugarbind>\n",
    "WHERE {\n",
    "    ?s a ?class .\n",
    "    OPTIONAL { ?class rdfs:label ?label}\n",
    "    OPTIONAL { ?class rdfs:comment ?description}\n",
    "}\n",
    "group by ?class ?label ?description\n",
    "ORDER BY DESC(?s_count)"
   ]
  },
  {
   "cell_type": "code",
   "execution_count": null,
   "id": "9a1833a4",
   "metadata": {},
   "outputs": [],
   "source": []
  }
 ],
 "metadata": {
  "kernelspec": {
   "display_name": "SPARQL",
   "language": "sparql",
   "name": "sparql"
  },
  "language_info": {
   "codemirror_mode": {
    "name": "sparql"
   },
   "mimetype": "application/sparql-query",
   "name": "sparql",
   "pygments_lexer": "sparql-nb"
  }
 },
 "nbformat": 4,
 "nbformat_minor": 5
}
